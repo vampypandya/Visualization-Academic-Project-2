{
 "cells": [
  {
   "cell_type": "code",
   "execution_count": null,
   "metadata": {},
   "outputs": [],
   "source": [
    "import pandas as pd\n",
    "import numpy as np"
   ]
  },
  {
   "cell_type": "code",
   "execution_count": null,
   "metadata": {},
   "outputs": [],
   "source": [
    "data1 = pd.read_csv('raw_fighter_details.csv')  \n"
   ]
  },
  {
   "cell_type": "code",
   "execution_count": null,
   "metadata": {},
   "outputs": [],
   "source": [
    "data1.head()"
   ]
  },
  {
   "cell_type": "code",
   "execution_count": null,
   "metadata": {},
   "outputs": [],
   "source": []
  },
  {
   "cell_type": "code",
   "execution_count": null,
   "metadata": {},
   "outputs": [],
   "source": []
  },
  {
   "cell_type": "code",
   "execution_count": null,
   "metadata": {},
   "outputs": [],
   "source": [
    "data3 = pd.read_csv('fligt.csv')  \n",
    "data3.head()"
   ]
  },
  {
   "cell_type": "code",
   "execution_count": null,
   "metadata": {},
   "outputs": [],
   "source": [
    "def encode_and_bind(original_dataframe, feature_to_encode):\n",
    "    dummies = pd.get_dummies(original_dataframe[[feature_to_encode]])\n",
    "    res = pd.concat([original_dataframe, dummies], axis=1)\n",
    "    res = res.drop([feature_to_encode], axis=1)\n",
    "    return(res) "
   ]
  },
  {
   "cell_type": "code",
   "execution_count": null,
   "metadata": {},
   "outputs": [],
   "source": [
    "data3 = encode_and_bind(data3,'UniqueCarrier')"
   ]
  },
  {
   "cell_type": "code",
   "execution_count": null,
   "metadata": {},
   "outputs": [],
   "source": [
    "data3['UniqueCarrier_PS']"
   ]
  },
  {
   "cell_type": "code",
   "execution_count": null,
   "metadata": {},
   "outputs": [],
   "source": [
    "\n"
   ]
  },
  {
   "cell_type": "code",
   "execution_count": null,
   "metadata": {},
   "outputs": [],
   "source": [
    "from sklearn.preprocessing import StandardScaler\n",
    "data = pd.read_csv('data.csv')\n",
    "data = data.select_dtypes(exclude=['O','bool'])\n",
    "data.head()\n",
    "# data = data.fillna(0)\n",
    "data = data.dropna()\n",
    "data = data.dropna(axis='columns')\n",
    "# data = data[data.columns[0:50]]\n",
    "scaler = StandardScaler()\n",
    "data = scaler.fit_transform(data)"
   ]
  },
  {
   "cell_type": "code",
   "execution_count": null,
   "metadata": {},
   "outputs": [],
   "source": [
    "from matplotlib import pyplot\n",
    "import numpy\n",
    "\n",
    "cov_mat = np.cov(data.T)\n",
    "eig_values, eig_vectors = np.linalg.eig(cov_mat)\n",
    "#Sorting Eigen Values\n",
    "idx = eig_values.argsort()[::-1]\n",
    "eig_values = eig_values[idx]\n",
    "eig_vectors = eig_vectors[:, idx]\n",
    "# print(eig_values, eig_vectors)\n",
    "xxx = []\n",
    "for val in eig_values:\n",
    "    xxx.append(float(val))\n",
    "\n",
    "x = numpy.arange(len(eig_values))\n",
    "y = numpy.array(xxx)\n",
    "\n",
    "fig = pyplot.figure()\n",
    "pyplot.plot(x,y)\n",
    "\n",
    "pyplot.show()"
   ]
  },
  {
   "cell_type": "code",
   "execution_count": null,
   "metadata": {},
   "outputs": [],
   "source": [
    "\n",
    "from kneed import KneeLocator\n",
    "kn = KneeLocator(x, y, curve='convex', direction='decreasing')\n",
    "print(kn.knee)\n",
    "\n",
    "import matplotlib.pyplot as plt\n",
    "plt.xlabel('number of clusters k')\n",
    "plt.ylabel('Sum of squared distances')\n",
    "plt.plot(x, y)\n",
    "plt.vlines(kn.knee, plt.ylim()[0], plt.ylim()[1], linestyles='dashed')\n",
    "plt.show()"
   ]
  },
  {
   "cell_type": "code",
   "execution_count": null,
   "metadata": {},
   "outputs": [],
   "source": [
    "from sklearn import manifold\n",
    "\n",
    "import pandas as pd\n",
    "from flask import Flask\n",
    "from flask import render_template\n",
    "import random\n",
    "\n",
    "from scipy.spatial.distance import cdist, pdist\n",
    "from sklearn.cluster import KMeans\n",
    "import numpy as np\n",
    "import sys\n",
    "import matplotlib.pyplot as plt\n",
    "\n",
    "from sklearn.decomposition import PCA\n",
    "from sklearn.metrics import pairwise_distances\n",
    "from sklearn.preprocessing import MinMaxScaler\n",
    "from sklearn.preprocessing import StandardScaler\n",
    "data = pd.read_csv('data.csv')\n",
    "data = data.select_dtypes(exclude=['O','bool'])\n",
    "data = data.dropna()\n",
    "data = data.dropna(axis='columns')\n",
    "header_list = list(data.columns)\n",
    "scaler = StandardScaler()\n",
    "data = scaler.fit_transform(data)\n"
   ]
  },
  {
   "cell_type": "code",
   "execution_count": null,
   "metadata": {},
   "outputs": [],
   "source": [
    "k = range(1, 30)\n",
    "features = data\n",
    "clusters = [KMeans(n_clusters=c, init='k-means++').fit(features) for c in k]\n",
    "centr_lst = [cc.cluster_centers_ for cc in clusters]\n",
    "\n",
    "k_distance = [cdist(features, cent, 'euclidean') for cent in centr_lst]\n",
    "clust_indx = [np.argmin(kd, axis=1) for kd in k_distance]\n",
    "distances = [np.min(kd, axis=1) for kd in k_distance]\n",
    "avg_within = [np.sum(dist) / features.shape[0] for dist in distances]\n",
    "\n",
    "from kneed import KneeLocator\n",
    "kn = KneeLocator(k, avg_within, curve='convex', direction='decreasing')\n",
    "\n",
    "with_in_sum_square = [np.sum(dist ** 2) for dist in distances]\n",
    "to_sum_square = np.sum(pdist(features) ** 2) / features.shape[0]\n",
    "bet_sum_square = to_sum_square - with_in_sum_square\n",
    "\n",
    "kidx = kn.knee\n",
    "\n",
    "fig = plt.figure()\n",
    "ax = fig.add_subplot(111)\n",
    "ax.plot(k, avg_within, 'g*-')\n",
    "ax.plot(k[kidx], avg_within[kidx], marker='o', markersize=12, markeredgewidth=2, markeredgecolor='r',\n",
    "        markerfacecolor='None')\n",
    "plt.grid(True)\n",
    "plt.xlabel('Number of clusters')\n",
    "plt.ylabel('Average within-cluster sum of squares')\n",
    "plt.title('Elbow plot of KMeans clustering')\n",
    "print(\"End of plotElbow\")\n",
    "plt.show()\n",
    "\n",
    "\n"
   ]
  },
  {
   "cell_type": "code",
   "execution_count": null,
   "metadata": {},
   "outputs": [],
   "source": [
    "data_df = pd.DataFrame(features, columns = header_list)\n",
    "\n",
    "kmeans = KMeans(n_clusters=kidx)\n",
    "kmeans.fit(features)\n",
    "kmeans_centres = kmeans.cluster_centers_\n",
    "labels = kmeans.labels_\n",
    "data_df[\"labels_list\"] = pd.Series(labels)\n"
   ]
  },
  {
   "cell_type": "code",
   "execution_count": null,
   "metadata": {},
   "outputs": [],
   "source": [
    "samples_required = 1000\n",
    "each_cluster_max = int(1000/kidx)\n",
    "print(each_cluster_max)\n",
    "\n",
    "# for i in range(kidx):\n",
    "frequency_cnt = data_df['labels_list'].value_counts()\n",
    "print(frequency_cnt)\n",
    "print(frequency_cnt.index)\n",
    "\n",
    "for i in range(kidx):\n",
    "    data_df[data_df['labels_list'] == i] = data_df[data_df['labels_list'] == i][:min(frequency_cnt[i],each_cluster_max)]\n"
   ]
  },
  {
   "cell_type": "code",
   "execution_count": null,
   "metadata": {},
   "outputs": [],
   "source": [
    "print(data_df['labels_list'].value_counts())"
   ]
  },
  {
   "cell_type": "code",
   "execution_count": 3,
   "metadata": {},
   "outputs": [
    {
     "ename": "FileNotFoundError",
     "evalue": "[Errno 2] No such file or directory: 'static/data/generated_Stratdata.csv'",
     "output_type": "error",
     "traceback": [
      "\u001b[0;31m---------------------------------------------------------------------------\u001b[0m",
      "\u001b[0;31mFileNotFoundError\u001b[0m                         Traceback (most recent call last)",
      "\u001b[0;32m<ipython-input-3-726b42388241>\u001b[0m in \u001b[0;36m<module>\u001b[0;34m\u001b[0m\n\u001b[1;32m     65\u001b[0m                                            :min(frequency_cnt[i], each_cluster_max)]\n\u001b[1;32m     66\u001b[0m \u001b[0;34m\u001b[0m\u001b[0m\n\u001b[0;32m---> 67\u001b[0;31m \u001b[0mdata_df\u001b[0m\u001b[0;34m.\u001b[0m\u001b[0mto_csv\u001b[0m\u001b[0;34m(\u001b[0m\u001b[0mpath_or_buf\u001b[0m\u001b[0;34m=\u001b[0m\u001b[0;34m'static/data/generated_Stratdata.csv'\u001b[0m\u001b[0;34m)\u001b[0m\u001b[0;34m\u001b[0m\u001b[0;34m\u001b[0m\u001b[0m\n\u001b[0m\u001b[1;32m     68\u001b[0m \u001b[0;32mreturn\u001b[0m \u001b[0mjsonify\u001b[0m\u001b[0;34m(\u001b[0m\u001b[0msuccess\u001b[0m\u001b[0;34m=\u001b[0m\u001b[0;32mTrue\u001b[0m\u001b[0;34m)\u001b[0m\u001b[0;34m\u001b[0m\u001b[0;34m\u001b[0m\u001b[0m\n",
      "\u001b[0;32m/opt/anaconda3/lib/python3.7/site-packages/pandas/core/generic.py\u001b[0m in \u001b[0;36mto_csv\u001b[0;34m(self, path_or_buf, sep, na_rep, float_format, columns, header, index, index_label, mode, encoding, compression, quoting, quotechar, line_terminator, chunksize, date_format, doublequote, escapechar, decimal)\u001b[0m\n\u001b[1;32m   3226\u001b[0m             \u001b[0mdecimal\u001b[0m\u001b[0;34m=\u001b[0m\u001b[0mdecimal\u001b[0m\u001b[0;34m,\u001b[0m\u001b[0;34m\u001b[0m\u001b[0;34m\u001b[0m\u001b[0m\n\u001b[1;32m   3227\u001b[0m         )\n\u001b[0;32m-> 3228\u001b[0;31m         \u001b[0mformatter\u001b[0m\u001b[0;34m.\u001b[0m\u001b[0msave\u001b[0m\u001b[0;34m(\u001b[0m\u001b[0;34m)\u001b[0m\u001b[0;34m\u001b[0m\u001b[0;34m\u001b[0m\u001b[0m\n\u001b[0m\u001b[1;32m   3229\u001b[0m \u001b[0;34m\u001b[0m\u001b[0m\n\u001b[1;32m   3230\u001b[0m         \u001b[0;32mif\u001b[0m \u001b[0mpath_or_buf\u001b[0m \u001b[0;32mis\u001b[0m \u001b[0;32mNone\u001b[0m\u001b[0;34m:\u001b[0m\u001b[0;34m\u001b[0m\u001b[0;34m\u001b[0m\u001b[0m\n",
      "\u001b[0;32m/opt/anaconda3/lib/python3.7/site-packages/pandas/io/formats/csvs.py\u001b[0m in \u001b[0;36msave\u001b[0;34m(self)\u001b[0m\n\u001b[1;32m    181\u001b[0m                 \u001b[0mself\u001b[0m\u001b[0;34m.\u001b[0m\u001b[0mmode\u001b[0m\u001b[0;34m,\u001b[0m\u001b[0;34m\u001b[0m\u001b[0;34m\u001b[0m\u001b[0m\n\u001b[1;32m    182\u001b[0m                 \u001b[0mencoding\u001b[0m\u001b[0;34m=\u001b[0m\u001b[0mself\u001b[0m\u001b[0;34m.\u001b[0m\u001b[0mencoding\u001b[0m\u001b[0;34m,\u001b[0m\u001b[0;34m\u001b[0m\u001b[0;34m\u001b[0m\u001b[0m\n\u001b[0;32m--> 183\u001b[0;31m                 \u001b[0mcompression\u001b[0m\u001b[0;34m=\u001b[0m\u001b[0mself\u001b[0m\u001b[0;34m.\u001b[0m\u001b[0mcompression\u001b[0m\u001b[0;34m,\u001b[0m\u001b[0;34m\u001b[0m\u001b[0;34m\u001b[0m\u001b[0m\n\u001b[0m\u001b[1;32m    184\u001b[0m             )\n\u001b[1;32m    185\u001b[0m             \u001b[0mclose\u001b[0m \u001b[0;34m=\u001b[0m \u001b[0;32mTrue\u001b[0m\u001b[0;34m\u001b[0m\u001b[0;34m\u001b[0m\u001b[0m\n",
      "\u001b[0;32m/opt/anaconda3/lib/python3.7/site-packages/pandas/io/common.py\u001b[0m in \u001b[0;36m_get_handle\u001b[0;34m(path_or_buf, mode, encoding, compression, memory_map, is_text)\u001b[0m\n\u001b[1;32m    397\u001b[0m         \u001b[0;32mif\u001b[0m \u001b[0mencoding\u001b[0m\u001b[0;34m:\u001b[0m\u001b[0;34m\u001b[0m\u001b[0;34m\u001b[0m\u001b[0m\n\u001b[1;32m    398\u001b[0m             \u001b[0;31m# Encoding\u001b[0m\u001b[0;34m\u001b[0m\u001b[0;34m\u001b[0m\u001b[0;34m\u001b[0m\u001b[0m\n\u001b[0;32m--> 399\u001b[0;31m             \u001b[0mf\u001b[0m \u001b[0;34m=\u001b[0m \u001b[0mopen\u001b[0m\u001b[0;34m(\u001b[0m\u001b[0mpath_or_buf\u001b[0m\u001b[0;34m,\u001b[0m \u001b[0mmode\u001b[0m\u001b[0;34m,\u001b[0m \u001b[0mencoding\u001b[0m\u001b[0;34m=\u001b[0m\u001b[0mencoding\u001b[0m\u001b[0;34m,\u001b[0m \u001b[0mnewline\u001b[0m\u001b[0;34m=\u001b[0m\u001b[0;34m\"\"\u001b[0m\u001b[0;34m)\u001b[0m\u001b[0;34m\u001b[0m\u001b[0;34m\u001b[0m\u001b[0m\n\u001b[0m\u001b[1;32m    400\u001b[0m         \u001b[0;32melif\u001b[0m \u001b[0mis_text\u001b[0m\u001b[0;34m:\u001b[0m\u001b[0;34m\u001b[0m\u001b[0;34m\u001b[0m\u001b[0m\n\u001b[1;32m    401\u001b[0m             \u001b[0;31m# No explicit encoding\u001b[0m\u001b[0;34m\u001b[0m\u001b[0;34m\u001b[0m\u001b[0;34m\u001b[0m\u001b[0m\n",
      "\u001b[0;31mFileNotFoundError\u001b[0m: [Errno 2] No such file or directory: 'static/data/generated_Stratdata.csv'"
     ]
    }
   ],
   "source": [
    "from sklearn import manifold\n",
    "\n",
    "import pandas as pd\n",
    "from flask import Flask\n",
    "from flask import render_template\n",
    "import random\n",
    "\n",
    "from scipy.spatial.distance import cdist, pdist\n",
    "from sklearn.cluster import KMeans\n",
    "import numpy as np\n",
    "import sys\n",
    "import matplotlib.pyplot as plt\n",
    "\n",
    "from sklearn.decomposition import PCA\n",
    "from sklearn.metrics import pairwise_distances\n",
    "from sklearn.preprocessing import MinMaxScaler\n",
    "from sklearn.preprocessing import StandardScaler\n",
    "k_val = 7\n",
    "data = pd.read_csv('data.csv')\n",
    "data = data.select_dtypes(exclude=['O', 'bool'])\n",
    "data = data.dropna()\n",
    "data = data.dropna(axis='columns')\n",
    "header_list = list(data.columns)\n",
    "scaler = StandardScaler()\n",
    "data = scaler.fit_transform(data)\n",
    "\n",
    "k = range(1, 30)\n",
    "features = data\n",
    "clusters = [KMeans(n_clusters=c, init='k-means++').fit(features) for c in k]\n",
    "centr_lst = [cc.cluster_centers_ for cc in clusters]\n",
    "\n",
    "# k_distance = [cdist(features, cent, 'euclidean') for cent in centr_lst]\n",
    "# clust_indx = [np.argmin(kd, axis=1) for kd in k_distance]\n",
    "# distances = [np.min(kd, axis=1) for kd in k_distance]\n",
    "# avg_within = [np.sum(dist) / features.shape[0] for dist in distances]\n",
    "\n",
    "kidx = k_val\n",
    "\n",
    "# fig = plt.figure()\n",
    "# ax = fig.add_subplot(111)\n",
    "# ax.plot(k, avg_within, 'g*-')\n",
    "# ax.plot(k[kidx], avg_within[kidx], marker='o', markersize=12, markeredgewidth=2, markeredgecolor='r',\n",
    "#         markerfacecolor='None')\n",
    "# plt.grid(True)\n",
    "# plt.xlabel('Number of clusters')\n",
    "# plt.ylabel('Average within-cluster sum of squares')\n",
    "# plt.title('Elbow plot of KMeans clustering')\n",
    "# plt.show()\n",
    "\n",
    "data_df = pd.DataFrame(features, columns=header_list)\n",
    "\n",
    "kmeans = KMeans(n_clusters=kidx)\n",
    "kmeans.fit(features)\n",
    "kmeans_centres = kmeans.cluster_centers_\n",
    "labels = kmeans.labels_\n",
    "data_df[\"labels_list\"] = pd.Series(labels)\n",
    "\n",
    "samples_required = 1000\n",
    "each_cluster_max = int(1000 / kidx)\n",
    "\n",
    "frequency_cnt = data_df['labels_list'].value_counts()\n",
    "\n",
    "for i in range(kidx):\n",
    "    data_df[data_df['labels_list'] == i] = data_df[data_df['labels_list'] == i][\n",
    "                                           :min(frequency_cnt[i], each_cluster_max)]\n",
    "\n",
    "data_df.to_csv(path_or_buf='generated_Stratdata.csv')\n",
    "return jsonify(success=True)"
   ]
  },
  {
   "cell_type": "code",
   "execution_count": null,
   "metadata": {},
   "outputs": [],
   "source": []
  }
 ],
 "metadata": {
  "kernelspec": {
   "display_name": "Python 3",
   "language": "python",
   "name": "python3"
  },
  "language_info": {
   "codemirror_mode": {
    "name": "ipython",
    "version": 3
   },
   "file_extension": ".py",
   "mimetype": "text/x-python",
   "name": "python",
   "nbconvert_exporter": "python",
   "pygments_lexer": "ipython3",
   "version": "3.7.4"
  }
 },
 "nbformat": 4,
 "nbformat_minor": 2
}
